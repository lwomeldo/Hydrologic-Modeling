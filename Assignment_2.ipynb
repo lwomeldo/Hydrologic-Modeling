{
 "cells": [
  {
   "cell_type": "markdown",
   "metadata": {},
   "source": [
    "# GEOS 518: Applied Hydrologic Modeling\n",
    "\n",
    "## Problem Set 2: Autoregressive Models\n",
    "\n",
    "In this Jupyter notebook, you will complete the following tasks with your time series of choice\n"
   ]
  },
  {
   "cell_type": "markdown",
   "metadata": {},
   "source": [
    "#### 1. Read in the dataset and perform any additional pre-processing needed\n",
    "\n"
   ]
  },
  {
   "cell_type": "code",
   "execution_count": 8,
   "metadata": {},
   "outputs": [
    {
     "data": {
      "text/html": [
       "<div>\n",
       "<table border=\"1\" class=\"dataframe\">\n",
       "  <thead>\n",
       "    <tr style=\"text-align: right;\">\n",
       "      <th></th>\n",
       "      <th>Elevation</th>\n",
       "      <th>Y</th>\n",
       "      <th>M</th>\n",
       "      <th>D</th>\n",
       "      <th>SerDates</th>\n",
       "      <th>WY</th>\n",
       "    </tr>\n",
       "  </thead>\n",
       "  <tbody>\n",
       "    <tr>\n",
       "      <th>0</th>\n",
       "      <td>3130.27</td>\n",
       "      <td>2006</td>\n",
       "      <td>10</td>\n",
       "      <td>1</td>\n",
       "      <td>2006-10-01</td>\n",
       "      <td>2007</td>\n",
       "    </tr>\n",
       "    <tr>\n",
       "      <th>1</th>\n",
       "      <td>3131.10</td>\n",
       "      <td>2006</td>\n",
       "      <td>10</td>\n",
       "      <td>2</td>\n",
       "      <td>2006-10-02</td>\n",
       "      <td>2007</td>\n",
       "    </tr>\n",
       "    <tr>\n",
       "      <th>2</th>\n",
       "      <td>3131.94</td>\n",
       "      <td>2006</td>\n",
       "      <td>10</td>\n",
       "      <td>3</td>\n",
       "      <td>2006-10-03</td>\n",
       "      <td>2007</td>\n",
       "    </tr>\n",
       "    <tr>\n",
       "      <th>3</th>\n",
       "      <td>3132.78</td>\n",
       "      <td>2006</td>\n",
       "      <td>10</td>\n",
       "      <td>4</td>\n",
       "      <td>2006-10-04</td>\n",
       "      <td>2007</td>\n",
       "    </tr>\n",
       "    <tr>\n",
       "      <th>4</th>\n",
       "      <td>3133.68</td>\n",
       "      <td>2006</td>\n",
       "      <td>10</td>\n",
       "      <td>5</td>\n",
       "      <td>2006-10-05</td>\n",
       "      <td>2007</td>\n",
       "    </tr>\n",
       "    <tr>\n",
       "      <th>5</th>\n",
       "      <td>3134.54</td>\n",
       "      <td>2006</td>\n",
       "      <td>10</td>\n",
       "      <td>6</td>\n",
       "      <td>2006-10-06</td>\n",
       "      <td>2007</td>\n",
       "    </tr>\n",
       "    <tr>\n",
       "      <th>6</th>\n",
       "      <td>3135.41</td>\n",
       "      <td>2006</td>\n",
       "      <td>10</td>\n",
       "      <td>7</td>\n",
       "      <td>2006-10-07</td>\n",
       "      <td>2007</td>\n",
       "    </tr>\n",
       "    <tr>\n",
       "      <th>7</th>\n",
       "      <td>3136.32</td>\n",
       "      <td>2006</td>\n",
       "      <td>10</td>\n",
       "      <td>8</td>\n",
       "      <td>2006-10-08</td>\n",
       "      <td>2007</td>\n",
       "    </tr>\n",
       "    <tr>\n",
       "      <th>8</th>\n",
       "      <td>3137.17</td>\n",
       "      <td>2006</td>\n",
       "      <td>10</td>\n",
       "      <td>9</td>\n",
       "      <td>2006-10-09</td>\n",
       "      <td>2007</td>\n",
       "    </tr>\n",
       "    <tr>\n",
       "      <th>9</th>\n",
       "      <td>3138.02</td>\n",
       "      <td>2006</td>\n",
       "      <td>10</td>\n",
       "      <td>10</td>\n",
       "      <td>2006-10-10</td>\n",
       "      <td>2007</td>\n",
       "    </tr>\n",
       "    <tr>\n",
       "      <th>3276</th>\n",
       "      <td>3118.21</td>\n",
       "      <td>2015</td>\n",
       "      <td>9</td>\n",
       "      <td>20</td>\n",
       "      <td>2015-09-20</td>\n",
       "      <td>2015</td>\n",
       "    </tr>\n",
       "    <tr>\n",
       "      <th>3277</th>\n",
       "      <td>3118.76</td>\n",
       "      <td>2015</td>\n",
       "      <td>9</td>\n",
       "      <td>21</td>\n",
       "      <td>2015-09-21</td>\n",
       "      <td>2015</td>\n",
       "    </tr>\n",
       "    <tr>\n",
       "      <th>3278</th>\n",
       "      <td>3119.30</td>\n",
       "      <td>2015</td>\n",
       "      <td>9</td>\n",
       "      <td>22</td>\n",
       "      <td>2015-09-22</td>\n",
       "      <td>2015</td>\n",
       "    </tr>\n",
       "    <tr>\n",
       "      <th>3279</th>\n",
       "      <td>3119.81</td>\n",
       "      <td>2015</td>\n",
       "      <td>9</td>\n",
       "      <td>23</td>\n",
       "      <td>2015-09-23</td>\n",
       "      <td>2015</td>\n",
       "    </tr>\n",
       "    <tr>\n",
       "      <th>3280</th>\n",
       "      <td>3120.37</td>\n",
       "      <td>2015</td>\n",
       "      <td>9</td>\n",
       "      <td>24</td>\n",
       "      <td>2015-09-24</td>\n",
       "      <td>2015</td>\n",
       "    </tr>\n",
       "    <tr>\n",
       "      <th>3281</th>\n",
       "      <td>3120.87</td>\n",
       "      <td>2015</td>\n",
       "      <td>9</td>\n",
       "      <td>25</td>\n",
       "      <td>2015-09-25</td>\n",
       "      <td>2015</td>\n",
       "    </tr>\n",
       "    <tr>\n",
       "      <th>3282</th>\n",
       "      <td>3121.37</td>\n",
       "      <td>2015</td>\n",
       "      <td>9</td>\n",
       "      <td>26</td>\n",
       "      <td>2015-09-26</td>\n",
       "      <td>2015</td>\n",
       "    </tr>\n",
       "    <tr>\n",
       "      <th>3283</th>\n",
       "      <td>3121.86</td>\n",
       "      <td>2015</td>\n",
       "      <td>9</td>\n",
       "      <td>27</td>\n",
       "      <td>2015-09-27</td>\n",
       "      <td>2015</td>\n",
       "    </tr>\n",
       "    <tr>\n",
       "      <th>3284</th>\n",
       "      <td>3122.24</td>\n",
       "      <td>2015</td>\n",
       "      <td>9</td>\n",
       "      <td>28</td>\n",
       "      <td>2015-09-28</td>\n",
       "      <td>2015</td>\n",
       "    </tr>\n",
       "    <tr>\n",
       "      <th>3285</th>\n",
       "      <td>3122.60</td>\n",
       "      <td>2015</td>\n",
       "      <td>9</td>\n",
       "      <td>29</td>\n",
       "      <td>2015-09-29</td>\n",
       "      <td>2015</td>\n",
       "    </tr>\n",
       "  </tbody>\n",
       "</table>\n",
       "</div>"
      ],
      "text/plain": [
       "      Elevation     Y   M   D   SerDates    WY\n",
       "0       3130.27  2006  10   1 2006-10-01  2007\n",
       "1       3131.10  2006  10   2 2006-10-02  2007\n",
       "2       3131.94  2006  10   3 2006-10-03  2007\n",
       "3       3132.78  2006  10   4 2006-10-04  2007\n",
       "4       3133.68  2006  10   5 2006-10-05  2007\n",
       "5       3134.54  2006  10   6 2006-10-06  2007\n",
       "6       3135.41  2006  10   7 2006-10-07  2007\n",
       "7       3136.32  2006  10   8 2006-10-08  2007\n",
       "8       3137.17  2006  10   9 2006-10-09  2007\n",
       "9       3138.02  2006  10  10 2006-10-10  2007\n",
       "3276    3118.21  2015   9  20 2015-09-20  2015\n",
       "3277    3118.76  2015   9  21 2015-09-21  2015\n",
       "3278    3119.30  2015   9  22 2015-09-22  2015\n",
       "3279    3119.81  2015   9  23 2015-09-23  2015\n",
       "3280    3120.37  2015   9  24 2015-09-24  2015\n",
       "3281    3120.87  2015   9  25 2015-09-25  2015\n",
       "3282    3121.37  2015   9  26 2015-09-26  2015\n",
       "3283    3121.86  2015   9  27 2015-09-27  2015\n",
       "3284    3122.24  2015   9  28 2015-09-28  2015\n",
       "3285    3122.60  2015   9  29 2015-09-29  2015"
      ]
     },
     "execution_count": 8,
     "metadata": {},
     "output_type": "execute_result"
    }
   ],
   "source": [
    "import pandas as pd\n",
    "import numpy as np\n",
    "import matplotlib.pyplot as plt\n",
    "import statsmodels.tsa.api as sm\n",
    "from pandas.core import datetools\n",
    "\n",
    "# Load the Henry's fork discharge dataset\n",
    "df = pd.read_csv('ArrowrockReservoirElevation.csv', names=['Elevation','Y','M','D'], skiprows=1) #read in csv with Elevation data\n",
    "df['SerDates'] = pd.to_datetime(df.Y*10000+df.M*100+df.D,format='%Y%m%d') #Define the datetime format\n",
    "\n",
    "# Create a Water Year column for our pandas data frame. This is a pretty \n",
    "# simple thing to do, but may not be necessary if you're not dealing with\n",
    "# discharge data. Here's how it goes:\n",
    "# 1. Create an empty array that is full of zeros and equal in length to \n",
    "#    the number of days in the record\n",
    "WY = np.zeros(len(df['Y'].index)) \n",
    "# 2. For those records where the month is less than 10, their associated \n",
    "#    year is the correct water year\n",
    "WY[df['M'].values < 10] = df['Y'].values[df['M'].values < 10] \n",
    "# 3. For those records where the month is greater than or equal to 10, \n",
    "#    the correct water year is one more than the current calendar year\n",
    "WY[df['M'].values >= 10] = df['Y'].values[df['M'].values >= 10] + 1\n",
    "# 4. Save the water year array as a column in the pandas data frame, as an\n",
    "#    integer\n",
    "df['WY'] = WY.astype(int)\n",
    "\n",
    "# Print the first and last 10 records just to make sure we loaded the data okay\n",
    "qrows = np.concatenate([np.arange(0,10,1),np.arange(-11,-1,1)])\n",
    "df.iloc[qrows,:]"
   ]
  },
  {
   "cell_type": "markdown",
   "metadata": {},
   "source": [
    "#### 2. Split the dataset into a \"training\" dataset used to estimate the parameters of the AR mode, and a \"test\" dataset against which you will test the model"
   ]
  },
  {
   "cell_type": "code",
   "execution_count": 3,
   "metadata": {
    "collapsed": true
   },
   "outputs": [],
   "source": [
    "# In the following example, we're going to segment the whole dataframe\n",
    "# into a training dataset (everything that's not Water Year 2015) and\n",
    "# a test dataset (everything that is Water Year 2015).\n",
    "df_train = df[df.WY != 2015]\n",
    "df_test  = df[df.WY == 2015]"
   ]
  },
  {
   "cell_type": "markdown",
   "metadata": {},
   "source": [
    "#### 3. Estimate the parameters of an AR(1) model using the training dataset\n",
    "    * Compute the autocorrelation function\n",
    "    * Use Yule-Walker equations to estimate the AR(1) parameters\n",
    "    * Use the statsmodel AR tools to estimate the parameters based on the dataset\n",
    "    * Compare the YW parameters to those from the statsmodel library"
   ]
  },
  {
   "cell_type": "code",
   "execution_count": 16,
   "metadata": {},
   "outputs": [
    {
     "name": "stdout",
     "output_type": "stream",
     "text": [
      "0.999560918574\n"
     ]
    }
   ],
   "source": [
    "# Compute the autocorrelation function\n",
    "Et   = E[1:-1] \n",
    "Etml = E[0:-2]\n",
    "R1 = np.corrcoef(Etm1,Et)\n",
    "print(R1[1,0])"
   ]
  },
  {
   "cell_type": "code",
   "execution_count": null,
   "metadata": {
    "collapsed": true
   },
   "outputs": [],
   "source": []
  },
  {
   "cell_type": "code",
   "execution_count": 14,
   "metadata": {},
   "outputs": [
    {
     "data": {
      "text/plain": [
       "0.99829141405161381"
      ]
     },
     "execution_count": 14,
     "metadata": {},
     "output_type": "execute_result"
    }
   ],
   "source": [
    "Et   = E[2:-1] \n",
    "Etm2 = E[0:-3]\n",
    "R2 = np.corrcoef(Etm2,Et)\n",
    "print(R2[1,0])"
   ]
  },
  {
   "cell_type": "code",
   "execution_count": 11,
   "metadata": {},
   "outputs": [
    {
     "name": "stdout",
     "output_type": "stream",
     "text": [
      "const    1.537085\n",
      "L1.y     0.999516\n",
      "dtype: float64\n"
     ]
    }
   ],
   "source": [
    "Et = pd.Series(df_train['Elevation'].values,df_train['SerDates'].values)\n",
    "E_AR1_model = sm.AR(Et).fit(1)\n",
    "print(E_AR1_model.params)"
   ]
  },
  {
   "cell_type": "markdown",
   "metadata": {},
   "source": [
    "#### 4. Estimate the parameters of an AR(2) model using the training dataset\n",
    "    * Use Yule-Walker equations to estimate the AR(2) parameters\n",
    "    * Use the statsmodel AR tools to estimate the parameters based on the dataset\n",
    "    * Compare the YW parameters to those from the statsmodel library\n"
   ]
  },
  {
   "cell_type": "code",
   "execution_count": null,
   "metadata": {
    "collapsed": true
   },
   "outputs": [],
   "source": []
  },
  {
   "cell_type": "markdown",
   "metadata": {},
   "source": [
    "#### 5. Apply the AR(1) and AR(2) models to the \"test\" dataset (the one withheld from parameter estimation)\n"
   ]
  },
  {
   "cell_type": "markdown",
   "metadata": {},
   "source": [
    "#### 6. Plot the modeled time series for the AR(1) and AR(2) models against the observed time series for comparison\n"
   ]
  },
  {
   "cell_type": "markdown",
   "metadata": {},
   "source": [
    "#### 7. Comment on key differences and distinctions between the models themselves and the extent to which they reproduce the observations"
   ]
  },
  {
   "cell_type": "code",
   "execution_count": null,
   "metadata": {
    "collapsed": true
   },
   "outputs": [],
   "source": []
  }
 ],
 "metadata": {
  "kernelspec": {
   "display_name": "Python 3",
   "language": "python",
   "name": "python3"
  },
  "language_info": {
   "codemirror_mode": {
    "name": "ipython",
    "version": 3
   },
   "file_extension": ".py",
   "mimetype": "text/x-python",
   "name": "python",
   "nbconvert_exporter": "python",
   "pygments_lexer": "ipython3",
   "version": "3.6.1"
  }
 },
 "nbformat": 4,
 "nbformat_minor": 2
}
